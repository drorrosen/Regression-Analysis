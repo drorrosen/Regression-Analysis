{
 "cells": [
  {
   "cell_type": "code",
   "execution_count": 1,
   "metadata": {},
   "outputs": [],
   "source": [
    "#Modules\n",
    "import pandas as pd\n",
    "import matplotlib.pyplot as plt\n",
    "import seaborn as sns;sns.set()\n",
    "from statsmodels.formula.api import ols\n",
    "import statsmodels.api as sm\n",
    "from statsmodels.stats.multicomp import MultiComparison\n",
    "%matplotlib inline\n"
   ]
  },
  {
   "cell_type": "markdown",
   "metadata": {},
   "source": [
    "Jet lag is a common problem for people traveling across multiple time zones, but people can gradually adjust\n",
    "to the new time zone since the exposure of the shifted light schedule to their eyes can resets the internal\n",
    "circadian rhythm in a process called “phase shift”. Campbell and Murphy (1998) in a highly controversial\n",
    "study reported that the human circadian clock can also be reset by only exposing the back of the knee\n",
    "to light, with some hailing this as a major discovery and others challenging aspects of the experimental\n",
    "design. The table below is taken from a later experiment by Wright and Czeisler (2002) that re-examined\n",
    "the phenomenon. The new experiment measured circadian rhythm through the daily cycle of melatonin\n",
    "production in 22 subjects randomly assigned to one of three light treatments. Subjects were woken from\n",
    "sleep and for three hours were exposed to bright lights applied to the eyes only, to the knees only or to\n",
    "neither (control group). The effects of treatment to the circadian rhythm were measured two days later by\n",
    "the magnitude of phase shift (measured in hours) in each subject’s daily cycle of melatonin production. A\n",
    "negative measurement indicates a delay in melatonin production, a predicted effect of light treatment, while\n",
    "a positive number indicates an advance."
   ]
  },
  {
   "cell_type": "code",
   "execution_count": 2,
   "metadata": {},
   "outputs": [
    {
     "data": {
      "text/html": [
       "<div>\n",
       "<style scoped>\n",
       "    .dataframe tbody tr th:only-of-type {\n",
       "        vertical-align: middle;\n",
       "    }\n",
       "\n",
       "    .dataframe tbody tr th {\n",
       "        vertical-align: top;\n",
       "    }\n",
       "\n",
       "    .dataframe thead th {\n",
       "        text-align: right;\n",
       "    }\n",
       "</style>\n",
       "<table border=\"1\" class=\"dataframe\">\n",
       "  <thead>\n",
       "    <tr style=\"text-align: right;\">\n",
       "      <th></th>\n",
       "      <th>Treatment</th>\n",
       "      <th>Phase_Shift_hr</th>\n",
       "    </tr>\n",
       "  </thead>\n",
       "  <tbody>\n",
       "    <tr>\n",
       "      <th>0</th>\n",
       "      <td>Control</td>\n",
       "      <td>0.53</td>\n",
       "    </tr>\n",
       "    <tr>\n",
       "      <th>1</th>\n",
       "      <td>Control</td>\n",
       "      <td>0.36</td>\n",
       "    </tr>\n",
       "    <tr>\n",
       "      <th>2</th>\n",
       "      <td>Control</td>\n",
       "      <td>0.20</td>\n",
       "    </tr>\n",
       "    <tr>\n",
       "      <th>3</th>\n",
       "      <td>Control</td>\n",
       "      <td>-0.37</td>\n",
       "    </tr>\n",
       "    <tr>\n",
       "      <th>4</th>\n",
       "      <td>Control</td>\n",
       "      <td>-0.60</td>\n",
       "    </tr>\n",
       "  </tbody>\n",
       "</table>\n",
       "</div>"
      ],
      "text/plain": [
       "  Treatment  Phase_Shift_hr\n",
       "0   Control            0.53\n",
       "1   Control            0.36\n",
       "2   Control            0.20\n",
       "3   Control           -0.37\n",
       "4   Control           -0.60"
      ]
     },
     "execution_count": 2,
     "metadata": {},
     "output_type": "execute_result"
    }
   ],
   "source": [
    "data_dict = {'Treatment':['Control']*8 + ['Knees']*7 + ['Eyes']*7,\n",
    "             'Phase_Shift_hr':[0.53, 0.36, 0.2, -0.37, -0.6, -0.64, -0.68, -1.27, \n",
    "                                 0.73, 0.31, 0.03, -0.29, -0.56, -0.96, -1.61, \n",
    "                                 -0.78, -0.86, -1.35, -1.48, -1.52, -2.04, -2.83]}\n",
    "df = pd.DataFrame(data_dict)\n",
    "df.head()"
   ]
  },
  {
   "cell_type": "code",
   "execution_count": 3,
   "metadata": {},
   "outputs": [
    {
     "data": {
      "image/png": "[encoded data removed]",
      "text/plain": [
       "<Figure size 432x288 with 1 Axes>"
      ]
     },
     "metadata": {
      "needs_background": "light"
     },
     "output_type": "display_data"
    }
   ],
   "source": [
    "#Plotting a boxplot that will give us a feeling of the variation between the groups\n",
    "sns.boxplot(x='Treatment', y='Phase_Shift_hr', data=df);"
   ]
  },
  {
   "cell_type": "markdown",
   "metadata": {},
   "source": [
    "From the boxplot we can see that there seems to be a difference between the Knees and Eyes groups.\n",
    "There may be an outlier in the Eyes group, but because we don't have much data in each group, we will leave it."
   ]
  },
  {
   "cell_type": "code",
   "execution_count": 4,
   "metadata": {},
   "outputs": [
    {
     "name": "stdout",
     "output_type": "stream",
     "text": [
      "                            OLS Regression Results                            \n",
      "==============================================================================\n",
      "Dep. Variable:         Phase_Shift_hr   R-squared:                       0.434\n",
      "Model:                            OLS   Adj. R-squared:                  0.375\n",
      "Method:                 Least Squares   F-statistic:                     7.289\n",
      "Date:                Tue, 07 Jan 2020   Prob (F-statistic):            0.00447\n",
      "Time:                        12:12:57   Log-Likelihood:                -21.881\n",
      "No. Observations:                  22   AIC:                             49.76\n",
      "Df Residuals:                      19   BIC:                             53.03\n",
      "Df Model:                           2                                         \n",
      "Covariance Type:            nonrobust                                         \n",
      "=========================================================================================\n",
      "                            coef    std err          t      P>|t|      [0.025      0.975]\n",
      "-----------------------------------------------------------------------------------------\n",
      "Intercept                -0.3087      0.249     -1.241      0.230      -0.830       0.212\n",
      "C(Treatment)[T.Eyes]     -1.2427      0.364     -3.411      0.003      -2.005      -0.480\n",
      "C(Treatment)[T.Knees]    -0.0270      0.364     -0.074      0.942      -0.790       0.736\n",
      "==============================================================================\n",
      "Omnibus:                        0.945   Durbin-Watson:                   1.195\n",
      "Prob(Omnibus):                  0.623   Jarque-Bera (JB):                0.919\n",
      "Skew:                          -0.355   Prob(JB):                        0.632\n",
      "Kurtosis:                       2.293   Cond. No.                         3.60\n",
      "==============================================================================\n",
      "\n",
      "Warnings:\n",
      "[1] Standard Errors assume that the covariance matrix of the errors is correctly specified.\n"
     ]
    }
   ],
   "source": [
    "#Anova Regression model\n",
    "model = ols('Phase_Shift_hr ~ C(Treatment)', data=df).fit()\n",
    "print(model.summary())"
   ]
  },
  {
   "cell_type": "code",
   "execution_count": 5,
   "metadata": {},
   "outputs": [
    {
     "name": "stdout",
     "output_type": "stream",
     "text": [
      "                df    sum_sq   mean_sq         F    PR(>F)\n",
      "C(Treatment)   2.0  7.224492  3.612246  7.289449  0.004472\n",
      "Residual      19.0  9.415345  0.495544       NaN       NaN\n"
     ]
    }
   ],
   "source": [
    "aov_table = sm.stats.anova_lm(model, typ=1)\n",
    "print(aov_table)"
   ]
  },
  {
   "cell_type": "markdown",
   "metadata": {},
   "source": [
    "Df Treatments = k − 1 = 2\n",
    "\n",
    "Df Error = N − k = 22 − 3 = 19\n",
    "\n",
    "Df Total = Df Treatments + Df Erorr = (N − k) + (k − 1) = N − 1 = 21\n",
    "\n",
    "SSTR = MSTR × (k − 1) = 3.6122 × 2 = 7.224\n",
    "\n",
    "SST = SSE + SSTR = 7.224 + 9.415 = 16.639\n",
    "\n",
    "MSE = SSE/(N − k) = 9.415/19 = 0.4955\n",
    "\n",
    "F-test = MSTR /MSE = 3.6122/0.4955 = 7.29"
   ]
  },
  {
   "cell_type": "markdown",
   "metadata": {},
   "source": [
    "the two hypotheses:\n",
    "\n",
    "H 0 :μ 1 =μ 2 =μ 3\n",
    "\n",
    "H A : at least 2 of the means are not equal (μ1 != μ2 and/or μ1 != μ3 and/or μ3 != μ2 )\n",
    "\n",
    "\n",
    "The P value is 0.004, as given in the ANOVA table.\n",
    "\n",
    "Because the p-value is small we reject the null hypothesis that all three means are equal. Therefore, the mean\n",
    "of the phase shift is not the same for all three treatment groups, and we conclude that light treatment does\n",
    "affect phase shift. We can conclude this because if any one of the three treatments is different, then at least\n",
    "one of the treatments must be different from the control group."
   ]
  },
  {
   "cell_type": "code",
   "execution_count": 6,
   "metadata": {},
   "outputs": [
    {
     "name": "stdout",
     "output_type": "stream",
     "text": [
      "Multiple Comparison of Means - Tukey HSD,FWER=0.05\n",
      "==============================================\n",
      " group1 group2 meandiff  lower   upper  reject\n",
      "----------------------------------------------\n",
      "Control  Eyes  -1.2427   -2.168 -0.3173  True \n",
      "Control Knees   -0.027  -0.9523  0.8984 False \n",
      "  Eyes  Knees   1.2157    0.26   2.1714  True \n",
      "----------------------------------------------\n"
     ]
    }
   ],
   "source": [
    "#Further Analysis - Pairwise Comparison tests at alpha=0.05\n",
    "PC = MultiComparison(df['Phase_Shift_hr'], df['Treatment'])\n",
    "PC_results = PC.tukeyhsd()\n",
    "print(PC_results)"
   ]
  },
  {
   "cell_type": "markdown",
   "metadata": {},
   "source": [
    "1) Eyes group's Phase Shift(hr) is statistically significantly shorter than Control group. \n",
    "\n",
    "2) Knees group's Phase Shift(hr) is statistically significantly longer than Eyes group. \n",
    "\n",
    "3) Subjects in the Knees and Control groups may plausibly have similar Phase Shift(hr)"
   ]
  },
  {
   "cell_type": "code",
   "execution_count": null,
   "metadata": {},
   "outputs": [],
   "source": []
  },
  {
   "cell_type": "code",
   "execution_count": null,
   "metadata": {},
   "outputs": [],
   "source": []
  },
  {
   "cell_type": "code",
   "execution_count": null,
   "metadata": {},
   "outputs": [],
   "source": []
  }
 ],
 "metadata": {
  "kernelspec": {
   "display_name": "Python 3",
   "language": "python",
   "name": "python3"
  },
  "language_info": {
   "codemirror_mode": {
    "name": "ipython",
    "version": 3
   },
   "file_extension": ".py",
   "mimetype": "text/x-python",
   "name": "python",
   "nbconvert_exporter": "python",
   "pygments_lexer": "ipython3",
   "version": "3.7.3"
  }
 },
 "nbformat": 4,
 "nbformat_minor": 2
}
